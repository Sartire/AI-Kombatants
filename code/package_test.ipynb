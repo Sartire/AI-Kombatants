{
 "cells": [
  {
   "cell_type": "markdown",
   "id": "86e5d291",
   "metadata": {},
   "source": [
    "# Test Package installation\n"
   ]
  },
  {
   "cell_type": "code",
   "execution_count": 1,
   "id": "312b9a6b",
   "metadata": {},
   "outputs": [],
   "source": [
    "import numpy as np\n",
    "import pandas as pd\n",
    "import gymnasium as gym\n",
    "import retro\n"
   ]
  },
  {
   "cell_type": "code",
   "execution_count": 2,
   "id": "5f61dd49-7be8-4486-b895-d45b3c6b9271",
   "metadata": {},
   "outputs": [],
   "source": [
    "env = retro.make(game='MortalKombatII-Genesis')"
   ]
  }
 ],
 "metadata": {
  "kernelspec": {
   "display_name": "Python 3 (ipykernel)",
   "language": "python",
   "name": "python3"
  },
  "language_info": {
   "codemirror_mode": {
    "name": "ipython",
    "version": 3
   },
   "file_extension": ".py",
   "mimetype": "text/x-python",
   "name": "python",
   "nbconvert_exporter": "python",
   "pygments_lexer": "ipython3",
   "version": "3.12.11"
  }
 },
 "nbformat": 4,
 "nbformat_minor": 5
}
